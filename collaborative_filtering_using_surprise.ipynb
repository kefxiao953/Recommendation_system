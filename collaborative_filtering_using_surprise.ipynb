{
 "cells": [
  {
   "cell_type": "code",
   "execution_count": 4,
   "metadata": {},
   "outputs": [],
   "source": [
    "from surprise import Dataset, Reader, KNNBasic, SVD, accuracy\n",
    "from surprise.model_selection import train_test_split, cross_validate"
   ]
  },
  {
   "cell_type": "code",
   "execution_count": 6,
   "metadata": {},
   "outputs": [
    {
     "data": {
      "text/plain": [
       "[('196', '242', 3.0, '881250949'),\n",
       " ('186', '302', 3.0, '891717742'),\n",
       " ('22', '377', 1.0, '878887116'),\n",
       " ('244', '51', 2.0, '880606923'),\n",
       " ('166', '346', 1.0, '886397596')]"
      ]
     },
     "execution_count": 6,
     "metadata": {},
     "output_type": "execute_result"
    }
   ],
   "source": [
    "# Load the MovieLens dataset\n",
    "data = Dataset.load_builtin('ml-100k')\n",
    "# Preview the first 5 rows of the dataset\n",
    "data.raw_ratings[:5]\n",
    "# Output: \n",
    "# [('196', '242', 3.0, '881250949'),\n",
    "#  ('186', '302', 3.0, '891717742'),\n",
    "#  ('22', '377', 1.0, '878887116'),\n",
    "#  ('244', '51', 2.0, '880606923'),\n",
    "#  ('166', '346', 1.0, '886397596')]"
   ]
  },
  {
   "cell_type": "code",
   "execution_count": 7,
   "metadata": {},
   "outputs": [],
   "source": [
    "# Split the data into a training set and a test set\n",
    "trainset, testset = train_test_split(data, test_size=0.2, random_state=42)"
   ]
  },
  {
   "cell_type": "code",
   "execution_count": 8,
   "metadata": {},
   "outputs": [
    {
     "name": "stdout",
     "output_type": "stream",
     "text": [
      "Computing the cosine similarity matrix...\n",
      "Done computing similarity matrix.\n"
     ]
    },
    {
     "data": {
      "text/plain": [
       "<surprise.prediction_algorithms.matrix_factorization.SVD at 0x121b59b50>"
      ]
     },
     "execution_count": 8,
     "metadata": {},
     "output_type": "execute_result"
    }
   ],
   "source": [
    "# Create and train the KNNBasic model\n",
    "knn = KNNBasic(k=20, sim_options={'name': 'cosine', 'user_based': True})\n",
    "knn.fit(trainset)\n",
    "# Create and train the SVD model\n",
    "svd = SVD(n_factors=100, lr_all=0.005, reg_all=0.02)\n",
    "svd.fit(trainset)"
   ]
  },
  {
   "cell_type": "code",
   "execution_count": 9,
   "metadata": {},
   "outputs": [
    {
     "name": "stdout",
     "output_type": "stream",
     "text": [
      "RMSE: 1.0284\n",
      "MAE:  0.8099\n",
      "RMSE: 0.9322\n",
      "MAE:  0.7344\n"
     ]
    }
   ],
   "source": [
    "# Generate predictions for the test set using the KNNBasic model\n",
    "knn_predictions = knn.test(testset)\n",
    "# Measure the RMSE and MAE for the KNNBasic model\n",
    "knn_rmse = accuracy.rmse(knn_predictions)\n",
    "\n",
    "# Generate predictions for the test set using the SVD model\n",
    "svd_predictions = svd.test(testset)\n",
    "# Measure the RMSE and MAE for the SVD model\n",
    "svd_rmse = accuracy.rmse(svd_predictions)\n",
    "svd_mae = accuracy.mae(svd_predictions)\n"
   ]
  },
  {
   "cell_type": "code",
   "execution_count": 10,
   "metadata": {},
   "outputs": [],
   "source": [
    "# Generate a prediction for the user 196 and the item 242 using the SVD model\n",
    "prediction = svd.predict('196', '242')\n",
    "# Get the estimated rating value\n",
    "rating = prediction.est\n"
   ]
  },
  {
   "cell_type": "code",
   "execution_count": null,
   "metadata": {},
   "outputs": [],
   "source": []
  }
 ],
 "metadata": {
  "kernelspec": {
   "display_name": "Python 3",
   "language": "python",
   "name": "python3"
  },
  "language_info": {
   "codemirror_mode": {
    "name": "ipython",
    "version": 3
   },
   "file_extension": ".py",
   "mimetype": "text/x-python",
   "name": "python",
   "nbconvert_exporter": "python",
   "pygments_lexer": "ipython3",
   "version": "3.11.5"
  }
 },
 "nbformat": 4,
 "nbformat_minor": 2
}
